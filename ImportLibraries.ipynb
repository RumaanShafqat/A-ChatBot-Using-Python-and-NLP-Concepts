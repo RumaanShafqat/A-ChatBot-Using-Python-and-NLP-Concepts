pip install SpeechRecognition
pip install gTTS
!pip install ffmpeg-python
