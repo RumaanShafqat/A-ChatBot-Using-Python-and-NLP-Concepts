from nltk.classify.textcat import TextCat
import nltk
import scipy
import speech_recognition as sr
from IPython.display import HTML, Audio
!nltk.download('punkt')
import time
from gtts import gTTS
import IPython.display as ipd
from nltk.tokenize import word_tokenize
from google.colab.output import eval_js
from base64 import b64decode
import numpy as np
from scipy.io.wavfile import read as wav_read
import io
import ffmpeg

AUDIO_HTML = """
<script>
var my_div = document.createElement("DIV");
var my_p = document.createElement("P");
var my_btn = document.createElement("BUTTON");
var t = document.createTextNode("Press to start recording");

my_btn.appendChild(t);
//my_p.appendChild(my_btn);
my_div.appendChild(my_btn);
document.body.appendChild(my_div);

var base64data = 0;
var reader;
var recorder, gumStream;
var recordButton = my_btn;

var handleSuccess = function(stream) {
  gumStream = stream;
  var options = {
    //bitsPerSecond: 8000, //chrome seems to ignore, always 48k
    mimeType : 'audio/webm;codecs=opus'
    //mimeType : 'audio/webm;codecs=pcm'
  };
  //recorder = new MediaRecorder(stream, options);
  recorder = new MediaRecorder(stream);
  recorder.ondataavailable = function(e) {
    var url = URL.createObjectURL(e.data);
    var preview = document.createElement('audio');
    preview.controls = true;
    preview.src = url;
    preview.style.visibility = 'hidden';
    document.body.appendChild(preview);

    reader = new FileReader();
    reader.readAsDataURL(e.data);
    reader.onloadend = function() {
      base64data = reader.result;
      //console.log("Inside FileReader:" + base64data);
    }
  };
  recorder.start();
  };

recordButton.innerText = "Recording... press to stop";

navigator.mediaDevices.getUserMedia({audio: true}).then(handleSuccess);


function toggleRecording() {
  if (recorder && recorder.state == "recording") {
      recorder.stop();
      gumStream.getAudioTracks()[0].stop();
      recordButton.innerText = "Saving the recording... pls wait!"
  }
}

// https://stackoverflow.com/a/951057
function sleep(ms) {
  return new Promise(resolve => setTimeout(resolve, ms));
}

var data = new Promise(resolve=>{
//recordButton.addEventListener("click", toggleRecording);
recordButton.onclick = ()=>{
toggleRecording()

sleep(2000).then(() => {
  // wait 2000ms for the data to be available...
  // ideally this should use something like await...
  //console.log("Inside data:" + base64data)
  resolve(base64data.toString())

});

}
});

</script>
"""

dataset = [
    ["Hello, how are you?", "Hello! I'm an AI chatbot. How can I assist you today?"],
    ["What are your hobbies?", "As an AI, I don't have hobbies, but I'm here to chat and answer your questions!"],
    ["Do you like movies?", "I don't have personal preferences, but I can talk about movies and recommend some if you'd like."],
    ["Tell me a joke.", "Sure! Why don't scientists trust atoms? Because they make up everything!"],
    ["What's your favorite food?", "As an AI, I don't eat, but I can help you find great recipes and restaurants."],
    ["What do you like to do for fun?", "I'm always here to have interesting conversations and provide helpful information!"],
    ["How was your day?", "As an AI, I don't experience days, but I'm ready to assist you with anything you need."],
    ["What's the weather like?", "I'm sorry, I don't have real-time data access. You can check the weather on a reliable weather website or app."],
    ["What are your favorite books?", "I don't have personal preferences, but I can suggest some popular books in various genres."],
    ["Tell me something interesting.", "Did you know that honey never spoils? Archaeologists have found pots of honey in ancient Egyptian tombs that are over 3,000 years old and still perfectly edible!"],
    ["What's your favorite sport?", "As an AI, I don't have preferences, but I can talk about various sports and their rules."],
    ["What's your favorite season?", "As an AI, I don't experience seasons, but I can tell you about the unique qualities of each season."],
    ["Do you have any pets?", "As an AI, I don't have pets, but I can provide information on different types of pets and pet care."],
    ["What's your favorite music?", "As an AI, I don't have personal preferences, but I can recommend music based on your taste."],
    ["Do you believe in aliens?", "As an AI, I don't have beliefs, but the existence of extraterrestrial life is a fascinating topic of discussion."],
    ["What are your favorite websites?", "As an AI, I don't have preferences, but I can help you find useful and interesting websites."],
    ["What languages do you speak?", "I primarily speak and understand English, but I can assist with various other languages too."],
    ["Tell me a fun fact.", "Sure! Did you know that a group of flamingos is called a 'flamboyance'?"],
    ["What's your favorite video game?", "As an AI, I don't have personal preferences, but I can suggest popular video games in different genres."],
    ["How do you spend your weekends?", "As an AI, I'm here 24/7, ready to help you anytime you need assistance!"],
    ["What's your favorite subject?", "As an AI, I don't have preferences, but I can provide information on a wide range of subjects."],
    ["Do you like to travel?", "As an AI, I don't have feelings, but I can offer travel tips and information about various destinations."],
    ["What's your favorite app?", "As an AI, I don't have preferences, but I can recommend useful apps for your needs."],
    ["Tell me about famous historical figures.", "Certainly! There are many fascinating historical figures across various fields. Who are you interested in?"],
    ["What's your favorite TV show?", "As an AI, I don't have personal preferences, but I can suggest popular TV shows in different genres."],
    ["Do you play any musical instruments?", "As an AI, I don't have physical presence, but I can help you learn about different musical instruments."],
    ["What's your favorite holiday?", "As an AI, I don't have preferences, but I can tell you about different holidays and their traditions."],
    ["Tell me about the latest technology trends.", "Certainly! There are always exciting advancements happening in the world of technology. What specific area are you interested in?"],
    ["What's your favorite historical era?", "As an AI, I don't have personal preferences, but I can provide information on various historical eras."],
    ["Do you like to cook?", "As an AI, I don't have preferences, but I can provide recipes and cooking tips if you're interested."],
    ["What's your favorite movie genre?", "As an AI, I don't have preferences, but I can recommend movies in different genres based on your interests."],
    ["Tell me about famous scientists.", "Certainly! There are numerous influential scientists throughout history. Which scientific field are you interested in?"],
    ["What's your favorite social media platform?", "As an AI, I don't have preferences, but I can provide information on various social media platforms."],
    ["Do you have any hidden talents?", "As an AI, I don't possess talents in the traditional sense, but I can assist you with a wide range of topics."],
    ["What's your favorite form of exercise?", "As an AI, I don't have preferences, but I can provide information on different types of exercises and their benefits."],
    ["Tell me about famous artists.", "Certainly! There are many renowned artists throughout history. Which art movement or artist are you interested in?"],
    ["What's your favorite mobile phone brand?", "As an AI, I don't have preferences, but I can provide information about different mobile phone brands and models."],
    ["Do you enjoy learning?", "As an AI, I don't have personal experiences, but I'm here to assist you with acquiring knowledge."],
    ["What's your favorite outdoor activity?", "As an AI, I don't have personal preferences, but I can provide information on various outdoor activities."],
    ["Tell me about famous musicians.", "Certainly! There are countless talented musicians. Which genre or artist are you interested in?"],
    ["What's your favorite quote?", "As an AI, I don't have personal favorites, but I can share inspiring and famous quotes with you."],
    ["Do you have any favorite podcasts?", "As an AI, I don't have personal preferences, but I can recommend popular podcasts in different categories."],
    ["What's your favorite time of day?", "As an AI, I don't experience time in the same way, but I can assist you at any time you need help."],
    ["Tell me about famous athletes.", "Certainly! There are many legendary athletes in various sports. Which sport or athlete are you interested in?"],
    ["What's your favorite social cause?", "As an AI, I don't have personal preferences, but I can provide information on different social causes and their impact."],
    ["What's your favorite type of cuisine?", "As an AI, I don't have preferences, but I can recommend popular cuisines and dishes from around the world."],
    ["Do you enjoy art?", "As an AI, I don't have personal preferences, but I can provide information on different art forms and artists."],
    ["What's your favorite fictional character?", "As an AI, I don't have personal preferences, but I can discuss various fictional characters and their stories."],
    ["Tell me about famous writers.", "Certainly! There are many renowned writers throughout history. Which author or literary genre are you interested in?"],
]

def get_audio():
  display(HTML(AUDIO_HTML))
  data = eval_js("data")
  binary = b64decode(data.split(',')[1])

  process = (ffmpeg
    .input('pipe:0')
    .output('pipe:1', format='wav')
    .run_async(pipe_stdin=True, pipe_stdout=True, pipe_stderr=True, quiet=True, overwrite_output=True)
  )
  output, err = process.communicate(input=binary)

  riff_chunk_size = len(output) - 8
  # Break up the chunk size into four bytes, held in b.
  q = riff_chunk_size
  b = []
  for i in range(4):
      q, r = divmod(q, 256)
      b.append(r)

  # Replace bytes 4:8 in proc.stdout with the actual size of the RIFF chunk.
  riff = output[:4] + bytes(b) + output[8:]

  sr, audio = wav_read(io.BytesIO(riff))

  return audio, sr


def calculate_similarity(question, reference):
    question_tokens = set(word_tokenize(question.lower()))
    reference_tokens = set(word_tokenize(reference.lower()))
    intersection = len(question_tokens.intersection(reference_tokens))
    union = len(question_tokens.union(reference_tokens))
    similarity = intersection / union
    return similarity

def find_best_match(question, dataset):
    best_similarity = 0
    best_answer = ""
    for data in dataset:
        q = data[0]
        similarity = calculate_similarity(question, q)
        if similarity > best_similarity:
            best_similarity = similarity
            best_answer = data[1]
    return best_answer


import speech_recognition as sp

# Function to convert speech to text
def audio_to_text(audio_file):
    r = sp.Recognizer()
    with sp.AudioFile(audio_file) as source:
        audio = r.record(source)  # Read the entire audio file

        try:
            text = r.recognize_google(audio)
            print("Question:", text)
            return text
        except sp.UnknownValueError:
            print("Sorry, I could not understand the audio.")
            return "Sorry, I could not understand the audio."
        except sp.RequestError as e:
            print("Could not request results from Google Speech Recognition service; {0}".format(e))
            return "Sorry, I could not understand the audio."


print("Enter 0 If you want to quit\n")
print("Ask Something you want:\n")

while True:
  audio, sr = get_audio()
  scipy.io.wavfile.write('audio.wav', sr, audio)


  # Specify the path to your audio file
  audio_file_path = "/content/audio.wav"

  user_question =  audio_to_text(audio_file_path)


  if user_question=="stop" or user_question=="okay bye" or user_question=="okay thanks":
    best_answer="Goodbye! If you have any more questions in the future, feel free to ask. Have a great day!"
    print("Answer: ", best_answer)
    from google.colab import drive
    #drive.mount('/content/drive')
    language = 'en'
    myobj = gTTS(text=best_answer, lang=language, slow=False)
    output_path = "/content/drive/MyDrive/welcome.mp3"
    myobj.save(output_path)
    audio=ipd.Audio(output_path, autoplay=True)
    ipd.display(audio)
    break

  best_answer = find_best_match(user_question, dataset)
  if user_question=="Sorry, I could not understand the audio.":
    best_answer="Sorry, I could not understand the audio."
  if best_answer=="":
    best_answer="I am sorry! I don't understand the question."
  print("Answer: ", best_answer)
  from google.colab import drive
  #drive.mount('/content/drive')
  language = 'en'
  myobj = gTTS(text=best_answer, lang=language, slow=False)
  output_path = "/content/drive/MyDrive/welcome.mp3"
  myobj.save(output_path)
  audio=ipd.Audio(output_path, autoplay=True)
  ipd.display(audio)
  time.sleep(2)
